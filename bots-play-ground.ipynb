{
 "cells": [
  {
   "cell_type": "markdown",
   "metadata": {},
   "source": [
    "# Bots play ground"
   ]
  },
  {
   "cell_type": "markdown",
   "metadata": {},
   "source": [
    "### Hongyu's rubbish `A*`:"
   ]
  },
  {
   "cell_type": "code",
   "execution_count": 179,
   "metadata": {},
   "outputs": [
    {
     "name": "stdout",
     "output_type": "stream",
     "text": [
      "/home/hongyu/Desktop/University/second-year/P3/IntelligentSystems/ai-schnapsen-project/repo\n",
      "Playing 20 games:\n",
      "Played 1 out of 20 games (5%): [0, 1] \n",
      "Played 2 out of 20 games (10%): [1, 1] \n",
      "Played 3 out of 20 games (15%): [3, 1] \n",
      "Played 4 out of 20 games (20%): [4, 1] \n",
      "Played 5 out of 20 games (25%): [4, 3] \n",
      "Played 6 out of 20 games (30%): [5, 3] \n",
      "Played 7 out of 20 games (35%): [5, 4] \n",
      "Played 8 out of 20 games (40%): [6, 4] \n",
      "Played 9 out of 20 games (45%): [6, 5] \n",
      "Played 10 out of 20 games (50%): [7, 5] \n",
      "Played 11 out of 20 games (55%): [8, 5] \n",
      "Played 12 out of 20 games (60%): [8, 6] \n",
      "Played 13 out of 20 games (65%): [10, 6] \n",
      "Played 14 out of 20 games (70%): [10, 7] \n",
      "Played 15 out of 20 games (75%): [11, 7] \n",
      "Played 16 out of 20 games (80%): [12, 7] \n",
      "Played 17 out of 20 games (85%): [13, 7] \n",
      "Played 18 out of 20 games (90%): [13, 9] \n",
      "Played 19 out of 20 games (95%): [13, 10] \n",
      "Played 20 out of 20 games (100%): [13, 11] \n",
      "Results:\n",
      "    bot <bots.a*.a*.Bot object at 0x7f935c51f4d0>: 13 points\n",
      "    bot <bots.rdeep.rdeep.Bot object at 0x7f935c51f5d0>: 11 points\n"
     ]
    }
   ],
   "source": [
    "%%bash\n",
    "pwd\n",
    "python3 tournament.py -p a*,rdeep -r 20 -s 2 -t 100"
   ]
  },
  {
   "cell_type": "code",
   "execution_count": 63,
   "metadata": {},
   "outputs": [
    {
     "name": "stdout",
     "output_type": "stream",
     "text": [
      "Playing 20 games:\n",
      "Played 1 out of 20 games (5%): [2, 0] \n",
      "Played 2 out of 20 games (10%): [2, 2] \n",
      "Played 3 out of 20 games (15%): [2, 4] \n",
      "Played 4 out of 20 games (20%): [3, 4] \n",
      "Played 5 out of 20 games (25%): [3, 5] \n",
      "Played 6 out of 20 games (30%): [3, 6] \n",
      "Played 7 out of 20 games (35%): [4, 6] \n",
      "Played 8 out of 20 games (40%): [5, 6] \n",
      "Played 9 out of 20 games (45%): [5, 8] \n",
      "Played 10 out of 20 games (50%): [6, 8] \n",
      "Played 11 out of 20 games (55%): [6, 9] \n",
      "Played 12 out of 20 games (60%): [6, 11] \n",
      "Played 13 out of 20 games (65%): [6, 12] \n",
      "Played 14 out of 20 games (70%): [6, 13] \n",
      "Played 15 out of 20 games (75%): [7, 13] \n",
      "Played 16 out of 20 games (80%): [7, 15] \n",
      "Played 17 out of 20 games (85%): [8, 15] \n",
      "Played 18 out of 20 games (90%): [8, 16] \n",
      "Played 19 out of 20 games (95%): [8, 17] \n",
      "Played 20 out of 20 games (100%): [9, 17] \n",
      "Results:\n",
      "    bot <bots.alphabeta.alphabeta.Bot object at 0x7f5bd40f2650>: 9 points\n",
      "    bot <bots.rdeep.rdeep.Bot object at 0x7f5bd40f2590>: 17 points\n"
     ]
    }
   ],
   "source": [
    "%%bash\n",
    "python3 tournament.py -p alphabeta,rdeep -r 20 -s 2 -t 100"
   ]
  },
  {
   "cell_type": "code",
   "execution_count": 175,
   "metadata": {},
   "outputs": [
    {
     "name": "stdout",
     "output_type": "stream",
     "text": [
      "Playing 10 games:\n",
      "Played 1 out of 10 games (10%): [0, 2] \n",
      "Played 2 out of 10 games (20%): [0, 4] \n",
      "Played 3 out of 10 games (30%): [1, 4] \n",
      "Played 4 out of 10 games (40%): [3, 4] \n",
      "Played 5 out of 10 games (50%): [3, 6] \n",
      "Played 6 out of 10 games (60%): [3, 8] \n",
      "Played 7 out of 10 games (70%): [3, 9] \n",
      "Played 8 out of 10 games (80%): [3, 11] \n",
      "Played 9 out of 10 games (90%): [5, 11] \n",
      "Played 10 out of 10 games (100%): [6, 11] \n",
      "Results:\n",
      "    bot <bots.a*.a*.Bot object at 0x7f6dfd9f13d0>: 6 points\n",
      "    bot <bots.rdeep.rdeep.Bot object at 0x7f6dfd9f1390>: 11 points\n"
     ]
    }
   ],
   "source": [
    "%%bash\n",
    "python3 tournament.py -p a*,rdeep -r 10 -s 1 -t 100"
   ]
  },
  {
   "cell_type": "code",
   "execution_count": 159,
   "metadata": {},
   "outputs": [
    {
     "name": "stdout",
     "output_type": "stream",
     "text": [
      "Playing 20 games:\n",
      "Played 1 out of 20 games (5%): [1, 0] \n",
      "Played 2 out of 20 games (10%): [1, 2] \n",
      "Played 3 out of 20 games (15%): [1, 4] \n",
      "Played 4 out of 20 games (20%): [1, 5] \n",
      "Played 5 out of 20 games (25%): [2, 5] \n",
      "Played 6 out of 20 games (30%): [3, 5] \n",
      "Played 7 out of 20 games (35%): [3, 6] \n",
      "Played 8 out of 20 games (40%): [3, 7] \n",
      "Played 9 out of 20 games (45%): [4, 7] \n",
      "Played 10 out of 20 games (50%): [4, 8] \n",
      "Played 11 out of 20 games (55%): [4, 10] \n",
      "Played 12 out of 20 games (60%): [4, 11] \n",
      "Played 13 out of 20 games (65%): [5, 11] \n",
      "Played 14 out of 20 games (70%): [6, 11] \n",
      "Played 15 out of 20 games (75%): [7, 11] \n",
      "Played 16 out of 20 games (80%): [8, 11] \n",
      "Played 17 out of 20 games (85%): [9, 11] \n",
      "Played 18 out of 20 games (90%): [10, 11] \n",
      "Played 19 out of 20 games (95%): [11, 11] \n",
      "Played 20 out of 20 games (100%): [12, 11] \n",
      "Results:\n",
      "    bot <bots.a*.a*.Bot object at 0x7f5684e25690>: 12 points\n",
      "    bot <bots.minimax.minimax.Bot object at 0x7f5684e25490>: 11 points\n"
     ]
    }
   ],
   "source": [
    "%%bash\n",
    "python3 tournament.py -p a*,minimax -r 20 -s 2 -t 100"
   ]
  },
  {
   "cell_type": "code",
   "execution_count": 166,
   "metadata": {},
   "outputs": [
    {
     "name": "stdout",
     "output_type": "stream",
     "text": [
      "Playing 20 games:\n",
      "Played 1 out of 20 games (5%): [1, 0] \n",
      "Played 2 out of 20 games (10%): [1, 1] \n",
      "Played 3 out of 20 games (15%): [2, 1] \n",
      "Played 4 out of 20 games (20%): [2, 2] \n",
      "Played 5 out of 20 games (25%): [3, 2] \n",
      "Played 6 out of 20 games (30%): [3, 3] \n",
      "Played 7 out of 20 games (35%): [3, 5] \n",
      "Played 8 out of 20 games (40%): [3, 7] \n",
      "Played 9 out of 20 games (45%): [3, 8] \n",
      "Played 10 out of 20 games (50%): [3, 9] \n",
      "Played 11 out of 20 games (55%): [3, 10] \n",
      "Played 12 out of 20 games (60%): [4, 10] \n",
      "Played 13 out of 20 games (65%): [4, 11] \n",
      "Played 14 out of 20 games (70%): [6, 11] \n",
      "Played 15 out of 20 games (75%): [7, 11] \n",
      "Played 16 out of 20 games (80%): [7, 12] \n",
      "Played 17 out of 20 games (85%): [7, 13] \n",
      "Played 18 out of 20 games (90%): [8, 13] \n",
      "Played 19 out of 20 games (95%): [9, 13] \n",
      "Played 20 out of 20 games (100%): [11, 13] \n",
      "Results:\n",
      "    bot <bots.a*.a*.Bot object at 0x7ff3e3b395d0>: 11 points\n",
      "    bot <bots.alphabeta.alphabeta.Bot object at 0x7ff3e3b393d0>: 13 points\n"
     ]
    }
   ],
   "source": [
    "%%bash\n",
    "python3 tournament.py -p a*,alphabeta -r 20 -s 2 -t 100"
   ]
  },
  {
   "cell_type": "code",
   "execution_count": 185,
   "metadata": {},
   "outputs": [
    {
     "name": "stdout",
     "output_type": "stream",
     "text": [
      "Playing 100 games:\n",
      "Played 1 out of 100 games (1%): [2, 0] \n",
      "Played 2 out of 100 games (2%): [4, 0] \n",
      "Played 3 out of 100 games (3%): [7, 0] \n",
      "Played 4 out of 100 games (4%): [9, 0] \n",
      "Played 5 out of 100 games (5%): [9, 1] \n",
      "Played 6 out of 100 games (6%): [11, 1] \n",
      "Played 7 out of 100 games (7%): [12, 1] \n",
      "Played 8 out of 100 games (8%): [15, 1] \n",
      "Played 9 out of 100 games (9%): [18, 1] \n",
      "Played 10 out of 100 games (10%): [18, 2] \n",
      "Played 11 out of 100 games (11%): [20, 2] \n",
      "Played 12 out of 100 games (12%): [22, 2] \n",
      "Played 13 out of 100 games (13%): [24, 2] \n",
      "Played 14 out of 100 games (14%): [27, 2] \n",
      "Played 15 out of 100 games (15%): [27, 3] \n",
      "Played 16 out of 100 games (16%): [27, 4] \n",
      "Played 17 out of 100 games (17%): [29, 4] \n",
      "Played 18 out of 100 games (18%): [31, 4] \n",
      "Played 19 out of 100 games (19%): [31, 5] \n",
      "Played 20 out of 100 games (20%): [31, 7] \n",
      "Played 21 out of 100 games (21%): [33, 7] \n",
      "Played 22 out of 100 games (22%): [35, 7] \n",
      "Played 23 out of 100 games (23%): [35, 8] \n",
      "Played 24 out of 100 games (24%): [36, 8] \n",
      "Played 25 out of 100 games (25%): [36, 9] \n",
      "Played 26 out of 100 games (26%): [36, 10] \n",
      "Played 27 out of 100 games (27%): [36, 12] \n",
      "Played 28 out of 100 games (28%): [38, 12] \n",
      "Played 29 out of 100 games (29%): [38, 13] \n",
      "Played 30 out of 100 games (30%): [39, 13] \n",
      "Played 31 out of 100 games (31%): [40, 13] \n",
      "Played 32 out of 100 games (32%): [40, 14] \n",
      "Played 33 out of 100 games (33%): [42, 14] \n",
      "Played 34 out of 100 games (34%): [43, 14] \n",
      "Played 35 out of 100 games (35%): [45, 14] \n",
      "Played 36 out of 100 games (36%): [45, 15] \n",
      "Played 37 out of 100 games (37%): [47, 15] \n",
      "Played 38 out of 100 games (38%): [49, 15] \n",
      "Played 39 out of 100 games (39%): [50, 15] \n",
      "Played 40 out of 100 games (40%): [53, 15] \n",
      "Played 41 out of 100 games (41%): [53, 17] \n",
      "Played 42 out of 100 games (42%): [53, 19] \n",
      "Played 43 out of 100 games (43%): [56, 19] \n",
      "Played 44 out of 100 games (44%): [58, 19] \n",
      "Played 45 out of 100 games (45%): [58, 20] \n",
      "Played 46 out of 100 games (46%): [59, 20] \n",
      "Played 47 out of 100 games (47%): [60, 20] \n",
      "Played 48 out of 100 games (48%): [63, 20] \n",
      "Played 49 out of 100 games (49%): [66, 20] \n",
      "Played 50 out of 100 games (50%): [67, 20] \n",
      "Played 51 out of 100 games (51%): [67, 21] \n",
      "Played 52 out of 100 games (52%): [70, 21] \n",
      "Played 53 out of 100 games (53%): [71, 21] \n",
      "Played 54 out of 100 games (54%): [71, 22] \n",
      "Played 55 out of 100 games (55%): [74, 22] \n",
      "Played 56 out of 100 games (56%): [74, 23] \n",
      "Played 57 out of 100 games (57%): [77, 23] \n",
      "Played 58 out of 100 games (58%): [79, 23] \n",
      "Played 59 out of 100 games (59%): [79, 24] \n",
      "Played 60 out of 100 games (60%): [79, 25] \n",
      "Played 61 out of 100 games (61%): [81, 25] \n",
      "Played 62 out of 100 games (62%): [81, 26] \n",
      "Played 63 out of 100 games (63%): [82, 26] \n",
      "Played 64 out of 100 games (64%): [82, 27] \n",
      "Played 65 out of 100 games (65%): [83, 27] \n",
      "Played 66 out of 100 games (66%): [84, 27] \n",
      "Played 67 out of 100 games (67%): [86, 27] \n",
      "Played 68 out of 100 games (68%): [86, 28] \n",
      "Played 69 out of 100 games (69%): [87, 28] \n",
      "Played 70 out of 100 games (70%): [89, 28] \n",
      "Played 71 out of 100 games (71%): [89, 29] \n",
      "Played 72 out of 100 games (72%): [90, 29] \n",
      "Played 73 out of 100 games (73%): [93, 29] \n",
      "Played 74 out of 100 games (74%): [95, 29] \n",
      "Played 75 out of 100 games (75%): [98, 29] \n",
      "Played 76 out of 100 games (76%): [100, 29] \n",
      "Played 77 out of 100 games (77%): [102, 29] \n",
      "Played 78 out of 100 games (78%): [103, 29] \n",
      "Played 79 out of 100 games (79%): [104, 29] \n",
      "Played 80 out of 100 games (80%): [104, 30] \n",
      "Played 81 out of 100 games (81%): [107, 30] \n",
      "Played 82 out of 100 games (82%): [108, 30] \n",
      "Played 83 out of 100 games (83%): [111, 30] \n",
      "Played 84 out of 100 games (84%): [113, 30] \n",
      "Played 85 out of 100 games (85%): [114, 30] \n",
      "Played 86 out of 100 games (86%): [117, 30] \n",
      "Played 87 out of 100 games (87%): [119, 30] \n",
      "Played 88 out of 100 games (88%): [119, 32] \n",
      "Played 89 out of 100 games (89%): [119, 33] \n",
      "Played 90 out of 100 games (90%): [119, 34] \n",
      "Played 91 out of 100 games (91%): [121, 34] \n",
      "Played 92 out of 100 games (92%): [121, 37] \n",
      "Played 93 out of 100 games (93%): [121, 38] \n",
      "Played 94 out of 100 games (94%): [122, 38] \n",
      "Played 95 out of 100 games (95%): [122, 39] \n",
      "Played 96 out of 100 games (96%): [124, 39] \n",
      "Played 97 out of 100 games (97%): [124, 40] \n",
      "Played 98 out of 100 games (98%): [124, 41] \n",
      "Played 99 out of 100 games (99%): [126, 41] \n",
      "Played 100 out of 100 games (100%): [128, 41] \n",
      "Results:\n",
      "    bot <bots.a*.a*.Bot object at 0x7f59025d55d0>: 128 points\n",
      "    bot <bots.rand.rand.Bot object at 0x7f59025d5490>: 41 points\n"
     ]
    }
   ],
   "source": [
    "%%bash\n",
    "python3 tournament.py -p a*,rand -r 100 -s 1 -t 100"
   ]
  }
 ],
 "metadata": {
  "kernelspec": {
   "display_name": "Python 3",
   "language": "python",
   "name": "python3"
  },
  "language_info": {
   "codemirror_mode": {
    "name": "ipython",
    "version": 3
   },
   "file_extension": ".py",
   "mimetype": "text/x-python",
   "name": "python",
   "nbconvert_exporter": "python",
   "pygments_lexer": "ipython3",
   "version": "3.7.4"
  }
 },
 "nbformat": 4,
 "nbformat_minor": 4
}
