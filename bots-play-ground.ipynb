{
 "cells": [
  {
   "cell_type": "markdown",
   "metadata": {},
   "source": [
    "# Bots play ground"
   ]
  },
  {
   "cell_type": "markdown",
   "metadata": {},
   "source": [
    "### Hongyu's rubbish `A*`:"
   ]
  },
  {
   "cell_type": "code",
   "execution_count": 179,
   "metadata": {},
   "outputs": [
    {
     "name": "stdout",
     "output_type": "stream",
     "text": [
      "/home/hongyu/Desktop/University/second-year/P3/IntelligentSystems/ai-schnapsen-project/repo\n",
      "Playing 20 games:\n",
      "Played 1 out of 20 games (5%): [0, 1] \n",
      "Played 2 out of 20 games (10%): [1, 1] \n",
      "Played 3 out of 20 games (15%): [3, 1] \n",
      "Played 4 out of 20 games (20%): [4, 1] \n",
      "Played 5 out of 20 games (25%): [4, 3] \n",
      "Played 6 out of 20 games (30%): [5, 3] \n",
      "Played 7 out of 20 games (35%): [5, 4] \n",
      "Played 8 out of 20 games (40%): [6, 4] \n",
      "Played 9 out of 20 games (45%): [6, 5] \n",
      "Played 10 out of 20 games (50%): [7, 5] \n",
      "Played 11 out of 20 games (55%): [8, 5] \n",
      "Played 12 out of 20 games (60%): [8, 6] \n",
      "Played 13 out of 20 games (65%): [10, 6] \n",
      "Played 14 out of 20 games (70%): [10, 7] \n",
      "Played 15 out of 20 games (75%): [11, 7] \n",
      "Played 16 out of 20 games (80%): [12, 7] \n",
      "Played 17 out of 20 games (85%): [13, 7] \n",
      "Played 18 out of 20 games (90%): [13, 9] \n",
      "Played 19 out of 20 games (95%): [13, 10] \n",
      "Played 20 out of 20 games (100%): [13, 11] \n",
      "Results:\n",
      "    bot <bots.a*.a*.Bot object at 0x7f935c51f4d0>: 13 points\n",
      "    bot <bots.rdeep.rdeep.Bot object at 0x7f935c51f5d0>: 11 points\n"
     ]
    }
   ],
   "source": [
    "%%bash\n",
    "pwd\n",
    "python3 tournament.py -p a*,rdeep -r 20 -s 2 -t 100"
   ]
  },
  {
   "cell_type": "code",
   "execution_count": 63,
   "metadata": {},
   "outputs": [
    {
     "name": "stdout",
     "output_type": "stream",
     "text": [
      "Playing 20 games:\n",
      "Played 1 out of 20 games (5%): [2, 0] \n",
      "Played 2 out of 20 games (10%): [2, 2] \n",
      "Played 3 out of 20 games (15%): [2, 4] \n",
      "Played 4 out of 20 games (20%): [3, 4] \n",
      "Played 5 out of 20 games (25%): [3, 5] \n",
      "Played 6 out of 20 games (30%): [3, 6] \n",
      "Played 7 out of 20 games (35%): [4, 6] \n",
      "Played 8 out of 20 games (40%): [5, 6] \n",
      "Played 9 out of 20 games (45%): [5, 8] \n",
      "Played 10 out of 20 games (50%): [6, 8] \n",
      "Played 11 out of 20 games (55%): [6, 9] \n",
      "Played 12 out of 20 games (60%): [6, 11] \n",
      "Played 13 out of 20 games (65%): [6, 12] \n",
      "Played 14 out of 20 games (70%): [6, 13] \n",
      "Played 15 out of 20 games (75%): [7, 13] \n",
      "Played 16 out of 20 games (80%): [7, 15] \n",
      "Played 17 out of 20 games (85%): [8, 15] \n",
      "Played 18 out of 20 games (90%): [8, 16] \n",
      "Played 19 out of 20 games (95%): [8, 17] \n",
      "Played 20 out of 20 games (100%): [9, 17] \n",
      "Results:\n",
      "    bot <bots.alphabeta.alphabeta.Bot object at 0x7f5bd40f2650>: 9 points\n",
      "    bot <bots.rdeep.rdeep.Bot object at 0x7f5bd40f2590>: 17 points\n"
     ]
    }
   ],
   "source": [
    "%%bash\n",
    "python3 tournament.py -p alphabeta,rdeep -r 20 -s 2 -t 100"
   ]
  },
  {
   "cell_type": "code",
   "execution_count": 175,
   "metadata": {},
   "outputs": [
    {
     "name": "stdout",
     "output_type": "stream",
     "text": [
      "Playing 10 games:\n",
      "Played 1 out of 10 games (10%): [0, 2] \n",
      "Played 2 out of 10 games (20%): [0, 4] \n",
      "Played 3 out of 10 games (30%): [1, 4] \n",
      "Played 4 out of 10 games (40%): [3, 4] \n",
      "Played 5 out of 10 games (50%): [3, 6] \n",
      "Played 6 out of 10 games (60%): [3, 8] \n",
      "Played 7 out of 10 games (70%): [3, 9] \n",
      "Played 8 out of 10 games (80%): [3, 11] \n",
      "Played 9 out of 10 games (90%): [5, 11] \n",
      "Played 10 out of 10 games (100%): [6, 11] \n",
      "Results:\n",
      "    bot <bots.a*.a*.Bot object at 0x7f6dfd9f13d0>: 6 points\n",
      "    bot <bots.rdeep.rdeep.Bot object at 0x7f6dfd9f1390>: 11 points\n"
     ]
    }
   ],
   "source": [
    "%%bash\n",
    "python3 tournament.py -p a*,rdeep -r 10 -s 1 -t 100"
   ]
  },
  {
   "cell_type": "code",
   "execution_count": 159,
   "metadata": {},
   "outputs": [
    {
     "name": "stdout",
     "output_type": "stream",
     "text": [
      "Playing 20 games:\n",
      "Played 1 out of 20 games (5%): [1, 0] \n",
      "Played 2 out of 20 games (10%): [1, 2] \n",
      "Played 3 out of 20 games (15%): [1, 4] \n",
      "Played 4 out of 20 games (20%): [1, 5] \n",
      "Played 5 out of 20 games (25%): [2, 5] \n",
      "Played 6 out of 20 games (30%): [3, 5] \n",
      "Played 7 out of 20 games (35%): [3, 6] \n",
      "Played 8 out of 20 games (40%): [3, 7] \n",
      "Played 9 out of 20 games (45%): [4, 7] \n",
      "Played 10 out of 20 games (50%): [4, 8] \n",
      "Played 11 out of 20 games (55%): [4, 10] \n",
      "Played 12 out of 20 games (60%): [4, 11] \n",
      "Played 13 out of 20 games (65%): [5, 11] \n",
      "Played 14 out of 20 games (70%): [6, 11] \n",
      "Played 15 out of 20 games (75%): [7, 11] \n",
      "Played 16 out of 20 games (80%): [8, 11] \n",
      "Played 17 out of 20 games (85%): [9, 11] \n",
      "Played 18 out of 20 games (90%): [10, 11] \n",
      "Played 19 out of 20 games (95%): [11, 11] \n",
      "Played 20 out of 20 games (100%): [12, 11] \n",
      "Results:\n",
      "    bot <bots.a*.a*.Bot object at 0x7f5684e25690>: 12 points\n",
      "    bot <bots.minimax.minimax.Bot object at 0x7f5684e25490>: 11 points\n"
     ]
    }
   ],
   "source": [
    "%%bash\n",
    "python3 tournament.py -p a*,minimax -r 20 -s 2 -t 100"
   ]
  },
  {
   "cell_type": "code",
   "execution_count": 166,
   "metadata": {},
   "outputs": [
    {
     "name": "stdout",
     "output_type": "stream",
     "text": [
      "Playing 20 games:\n",
      "Played 1 out of 20 games (5%): [1, 0] \n",
      "Played 2 out of 20 games (10%): [1, 1] \n",
      "Played 3 out of 20 games (15%): [2, 1] \n",
      "Played 4 out of 20 games (20%): [2, 2] \n",
      "Played 5 out of 20 games (25%): [3, 2] \n",
      "Played 6 out of 20 games (30%): [3, 3] \n",
      "Played 7 out of 20 games (35%): [3, 5] \n",
      "Played 8 out of 20 games (40%): [3, 7] \n",
      "Played 9 out of 20 games (45%): [3, 8] \n",
      "Played 10 out of 20 games (50%): [3, 9] \n",
      "Played 11 out of 20 games (55%): [3, 10] \n",
      "Played 12 out of 20 games (60%): [4, 10] \n",
      "Played 13 out of 20 games (65%): [4, 11] \n",
      "Played 14 out of 20 games (70%): [6, 11] \n",
      "Played 15 out of 20 games (75%): [7, 11] \n",
      "Played 16 out of 20 games (80%): [7, 12] \n",
      "Played 17 out of 20 games (85%): [7, 13] \n",
      "Played 18 out of 20 games (90%): [8, 13] \n",
      "Played 19 out of 20 games (95%): [9, 13] \n",
      "Played 20 out of 20 games (100%): [11, 13] \n",
      "Results:\n",
      "    bot <bots.a*.a*.Bot object at 0x7ff3e3b395d0>: 11 points\n",
      "    bot <bots.alphabeta.alphabeta.Bot object at 0x7ff3e3b393d0>: 13 points\n"
     ]
    }
   ],
   "source": [
    "%%bash\n",
    "python3 tournament.py -p a*,alphabeta -r 20 -s 2 -t 100"
   ]
  },
  {
   "cell_type": "code",
   "execution_count": null,
   "metadata": {},
   "outputs": [],
   "source": [
    "%%bash\n",
    "python3 tournament.py -p a*,rand -r 100 -s 2 -t 100"
   ]
  }
 ],
 "metadata": {
  "kernelspec": {
   "display_name": "Python 3",
   "language": "python",
   "name": "python3"
  },
  "language_info": {
   "codemirror_mode": {
    "name": "ipython",
    "version": 3
   },
   "file_extension": ".py",
   "mimetype": "text/x-python",
   "name": "python",
   "nbconvert_exporter": "python",
   "pygments_lexer": "ipython3",
   "version": "3.7.4"
  }
 },
 "nbformat": 4,
 "nbformat_minor": 4
}
