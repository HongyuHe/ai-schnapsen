{
 "cells": [
  {
   "cell_type": "markdown",
   "metadata": {},
   "source": [
    "# Bots play ground"
   ]
  },
  {
   "cell_type": "markdown",
   "metadata": {},
   "source": [
    "### Hongyu's rubbish `A*`:"
   ]
  },
  {
   "cell_type": "code",
   "execution_count": 16,
   "metadata": {},
   "outputs": [
    {
     "name": "stdout",
     "output_type": "stream",
     "text": [
      "/home/hongyu/Desktop/University/second-year/P3/IntelligentSystems/ai-schnapsen-project/repo\n",
      "Playing 10 games:\n",
      "Played 1 out of 10 games (10%): [2, 0] \n",
      "Played 2 out of 10 games (20%): [4, 0] \n",
      "Played 3 out of 10 games (30%): [4, 1] \n",
      "Played 4 out of 10 games (40%): [5, 1] \n",
      "Played 5 out of 10 games (50%): [5, 2] \n",
      "Played 6 out of 10 games (60%): [6, 2] \n",
      "Played 7 out of 10 games (70%): [6, 3] \n",
      "Played 8 out of 10 games (80%): [7, 3] \n",
      "Played 9 out of 10 games (90%): [7, 4] \n",
      "Played 10 out of 10 games (100%): [8, 4] \n",
      "Results:\n",
      "    bot <bots.a*.a*.Bot object at 0x7f97c767f610>: 8 points\n",
      "    bot <bots.rdeep.rdeep.Bot object at 0x7f97c767f410>: 4 points\n"
     ]
    }
   ],
   "source": [
    "%%bash\n",
    "pwd\n",
    "python3 tournament.py -p a*,rdeep -r 10 -s 2 -t 100"
   ]
  },
  {
   "cell_type": "code",
   "execution_count": 18,
   "metadata": {},
   "outputs": [
    {
     "name": "stdout",
     "output_type": "stream",
     "text": [
      "Playing 10 games:\n",
      "Played 1 out of 10 games (10%): [0, 1] \n",
      "Played 2 out of 10 games (20%): [0, 3] \n",
      "Played 3 out of 10 games (30%): [0, 4] \n",
      "Played 4 out of 10 games (40%): [1, 4] \n",
      "Played 5 out of 10 games (50%): [1, 6] \n",
      "Played 6 out of 10 games (60%): [1, 8] \n",
      "Played 7 out of 10 games (70%): [2, 8] \n",
      "Played 8 out of 10 games (80%): [3, 8] \n",
      "Played 9 out of 10 games (90%): [3, 9] \n",
      "Played 10 out of 10 games (100%): [5, 9] \n",
      "Results:\n",
      "    bot <bots.a*.a*.Bot object at 0x7fc5ae4eb650>: 5 points\n",
      "    bot <bots.rdeep.rdeep.Bot object at 0x7fc5ae4eb450>: 9 points\n"
     ]
    }
   ],
   "source": [
    "%%bash\n",
    "python3 tournament.py -p a*,rdeep -r 10 -s 1 -t 100"
   ]
  },
  {
   "cell_type": "code",
   "execution_count": 20,
   "metadata": {},
   "outputs": [
    {
     "name": "stdout",
     "output_type": "stream",
     "text": [
      "Playing 10 games:\n",
      "Played 1 out of 10 games (10%): [1, 0] \n",
      "Played 2 out of 10 games (20%): [2, 0] \n",
      "Played 3 out of 10 games (30%): [3, 0] \n",
      "Played 4 out of 10 games (40%): [4, 0] \n",
      "Played 5 out of 10 games (50%): [4, 1] \n",
      "Played 6 out of 10 games (60%): [4, 2] \n",
      "Played 7 out of 10 games (70%): [5, 2] \n",
      "Played 8 out of 10 games (80%): [6, 2] \n",
      "Played 9 out of 10 games (90%): [8, 2] \n",
      "Played 10 out of 10 games (100%): [8, 3] \n",
      "Results:\n",
      "    bot <bots.a*.a*.Bot object at 0x7f9b105e0510>: 8 points\n",
      "    bot <bots.minimax.minimax.Bot object at 0x7f9b105e0610>: 3 points\n"
     ]
    }
   ],
   "source": [
    "%%bash\n",
    "python3 tournament.py -p a*,minimax -r 10 -s 2 -t 100"
   ]
  },
  {
   "cell_type": "code",
   "execution_count": 22,
   "metadata": {},
   "outputs": [
    {
     "name": "stdout",
     "output_type": "stream",
     "text": [
      "Playing 10 games:\n",
      "Played 1 out of 10 games (10%): [0, 1] \n",
      "Played 2 out of 10 games (20%): [0, 2] \n",
      "Played 3 out of 10 games (30%): [1, 2] \n",
      "Played 4 out of 10 games (40%): [2, 2] \n",
      "Played 5 out of 10 games (50%): [4, 2] \n",
      "Played 6 out of 10 games (60%): [6, 2] \n",
      "Played 7 out of 10 games (70%): [7, 2] \n",
      "Played 8 out of 10 games (80%): [7, 3] \n",
      "Played 9 out of 10 games (90%): [7, 4] \n",
      "Played 10 out of 10 games (100%): [7, 5] \n",
      "Results:\n",
      "    bot <bots.a*.a*.Bot object at 0x7f512a5cf5d0>: 7 points\n",
      "    bot <bots.alphabeta.alphabeta.Bot object at 0x7f512a5cf3d0>: 5 points\n"
     ]
    }
   ],
   "source": [
    "%%bash\n",
    "python3 tournament.py -p a*,alphabeta -r 10 -s 2 -t 100"
   ]
  }
 ],
 "metadata": {
  "kernelspec": {
   "display_name": "Python 3",
   "language": "python",
   "name": "python3"
  },
  "language_info": {
   "codemirror_mode": {
    "name": "ipython",
    "version": 3
   },
   "file_extension": ".py",
   "mimetype": "text/x-python",
   "name": "python",
   "nbconvert_exporter": "python",
   "pygments_lexer": "ipython3",
   "version": "3.7.4"
  }
 },
 "nbformat": 4,
 "nbformat_minor": 4
}
